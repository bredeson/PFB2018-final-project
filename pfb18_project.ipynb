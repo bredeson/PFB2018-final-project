{
 "cells": [
  {
   "cell_type": "markdown",
   "metadata": {},
   "source": [
    "# README for What tree_proteins3.py does \n",
    "\n",
    "This script will take tab-separated uniprotid and taxids and finds first_common_ancestor of each protein\n",
    "and number of steps from FCA to Eukaryota\n",
    "\n",
    "It produces 4 output files (summary_report,ontology.tab, trees.tab) and a general newick file for all taxa from all proteins (criteria: taxon have at least one protein to go in final tree)\n",
    "\n",
    "This script uses ete3 for dealing with trees and graphs\n",
    "There were some incompatibility issue (python2&3) for running ete3 on my local machine but it went fine once transferred to server"
   ]
  },
  {
   "cell_type": "code",
   "execution_count": 1,
   "metadata": {
    "collapsed": true
   },
   "outputs": [
    {
     "ename": "ModuleNotFoundError",
     "evalue": "No module named 'ete3'",
     "output_type": "error",
     "traceback": [
      "\u001b[0;31m---------------------------------------------------------------------------\u001b[0m",
      "\u001b[0;31mModuleNotFoundError\u001b[0m                       Traceback (most recent call last)",
      "\u001b[0;32m<ipython-input-1-7aae7efce675>\u001b[0m in \u001b[0;36m<module>\u001b[0;34m\u001b[0m\n\u001b[0;32m----> 1\u001b[0;31m \u001b[0;32mfrom\u001b[0m \u001b[0mete3\u001b[0m \u001b[0;32mimport\u001b[0m \u001b[0mTree\u001b[0m\u001b[0;34m\u001b[0m\u001b[0;34m\u001b[0m\u001b[0m\n\u001b[0m\u001b[1;32m      2\u001b[0m \u001b[0;32mfrom\u001b[0m \u001b[0mete3\u001b[0m \u001b[0;32mimport\u001b[0m \u001b[0mNCBITaxa\u001b[0m\u001b[0;34m\u001b[0m\u001b[0;34m\u001b[0m\u001b[0m\n\u001b[1;32m      3\u001b[0m \u001b[0;32mfrom\u001b[0m \u001b[0mete3\u001b[0m \u001b[0;32mimport\u001b[0m \u001b[0mPhyloTree\u001b[0m\u001b[0;34m\u001b[0m\u001b[0;34m\u001b[0m\u001b[0m\n",
      "\u001b[0;31mModuleNotFoundError\u001b[0m: No module named 'ete3'"
     ]
    }
   ],
   "source": [
    "from ete3 import Tree\n",
    "from ete3 import NCBITaxa\n",
    "from ete3 import PhyloTree"
   ]
  },
  {
   "cell_type": "markdown",
   "metadata": {},
   "source": [
    "As seen in above text, I get some errors due to installation problem of different versions of python, so I had to run my script locally on python2 but it is compatible with python3 on the server"
   ]
  },
  {
   "cell_type": "code",
   "execution_count": 2,
   "metadata": {
    "collapsed": true
   },
   "outputs": [
    {
     "ename": "ModuleNotFoundError",
     "evalue": "No module named 'ete3'",
     "output_type": "error",
     "traceback": [
      "\u001b[0;31m---------------------------------------------------------------------------\u001b[0m",
      "\u001b[0;31mModuleNotFoundError\u001b[0m                       Traceback (most recent call last)",
      "\u001b[0;32m<ipython-input-2-b02361e5ceb4>\u001b[0m in \u001b[0;36m<module>\u001b[0;34m\u001b[0m\n\u001b[1;32m      1\u001b[0m \u001b[0;31m#First time to upload:\u001b[0m\u001b[0;34m\u001b[0m\u001b[0;34m\u001b[0m\u001b[0;34m\u001b[0m\u001b[0m\n\u001b[0;32m----> 2\u001b[0;31m \u001b[0;32mfrom\u001b[0m \u001b[0mete3\u001b[0m \u001b[0;32mimport\u001b[0m \u001b[0mNCBITaxa\u001b[0m\u001b[0;34m\u001b[0m\u001b[0;34m\u001b[0m\u001b[0m\n\u001b[0m\u001b[1;32m      3\u001b[0m \u001b[0mncbi\u001b[0m \u001b[0;34m=\u001b[0m \u001b[0mNCBITaxa\u001b[0m\u001b[0;34m(\u001b[0m\u001b[0;34m)\u001b[0m\u001b[0;34m\u001b[0m\u001b[0;34m\u001b[0m\u001b[0m\n",
      "\u001b[0;31mModuleNotFoundError\u001b[0m: No module named 'ete3'"
     ]
    }
   ],
   "source": [
    "#First time to upload:\n",
    "from ete3 import NCBITaxa\n",
    "ncbi = NCBITaxa()\n"
   ]
  },
  {
   "cell_type": "markdown",
   "metadata": {},
   "source": [
    "The results should be\n",
    "NCBI database not present yet (first time used?)\n",
    "Downloading taxdump.tar.gz from NCBI FTP site (via HTTP)...\n",
    "Done. Parsing...\n",
    "Loading node names...\n",
    "1998405 names loaded.\n",
    "207043 synonyms loaded.\n",
    "Loading nodes...\n",
    "1998405 nodes loaded.\n",
    "Linking nodes...\n",
    "Tree is loaded.\n",
    "Updating database: /Users/moustafaam/.etetoolkit/taxa.sqlite ...\n",
    " 1998000 generating entries... \n",
    "Uploading to /Users/moustafaam/.etetoolkit/taxa.sqlite\n",
    "\n",
    "Inserting synonyms:      205000 \n",
    "Inserting taxid merges:  50000 \n",
    "Inserting taxids:       1995000"
   ]
  },
  {
   "cell_type": "markdown",
   "metadata": {},
   "source": [
    "After loading the database for the first time, it can be used later"
   ]
  },
  {
   "cell_type": "markdown",
   "metadata": {},
   "source": [
    "Some imp functionality of this module which are developed together in a script called tree_topology.py"
   ]
  },
  {
   "cell_type": "code",
   "execution_count": 3,
   "metadata": {
    "collapsed": true
   },
   "outputs": [
    {
     "ename": "NameError",
     "evalue": "name 'ncbi' is not defined",
     "output_type": "error",
     "traceback": [
      "\u001b[0;31m---------------------------------------------------------------------------\u001b[0m",
      "\u001b[0;31mNameError\u001b[0m                                 Traceback (most recent call last)",
      "\u001b[0;32m<ipython-input-3-0514c5fd20f1>\u001b[0m in \u001b[0;36m<module>\u001b[0;34m\u001b[0m\n\u001b[0;32m----> 1\u001b[0;31m \u001b[0mtree\u001b[0m \u001b[0;34m=\u001b[0m \u001b[0mncbi\u001b[0m\u001b[0;34m.\u001b[0m\u001b[0mget_topology\u001b[0m\u001b[0;34m(\u001b[0m\u001b[0;34m[\u001b[0m\u001b[0;36m7227\u001b[0m\u001b[0;34m,\u001b[0m\u001b[0;36m9031\u001b[0m\u001b[0;34m,\u001b[0m\u001b[0;36m9606\u001b[0m\u001b[0;34m,\u001b[0m\u001b[0;36m562\u001b[0m\u001b[0;34m,\u001b[0m\u001b[0;36m10090\u001b[0m\u001b[0;34m]\u001b[0m\u001b[0;34m)\u001b[0m\u001b[0;34m\u001b[0m\u001b[0;34m\u001b[0m\u001b[0m\n\u001b[0m",
      "\u001b[0;31mNameError\u001b[0m: name 'ncbi' is not defined"
     ]
    }
   ],
   "source": [
    "tree = ncbi.get_topology([7227,9031,9606,562,10090])"
   ]
  },
  {
   "cell_type": "markdown",
   "metadata": {},
   "source": [
    "gets you a tree object that has all internal nodes and then save as nwk tree"
   ]
  },
  {
   "cell_type": "code",
   "execution_count": 5,
   "metadata": {
    "collapsed": true
   },
   "outputs": [
    {
     "ename": "NameError",
     "evalue": "name 'tree' is not defined",
     "output_type": "error",
     "traceback": [
      "\u001b[0;31m---------------------------------------------------------------------------\u001b[0m",
      "\u001b[0;31mNameError\u001b[0m                                 Traceback (most recent call last)",
      "\u001b[0;32m<ipython-input-5-a5085cbed172>\u001b[0m in \u001b[0;36m<module>\u001b[0;34m\u001b[0m\n\u001b[0;32m----> 1\u001b[0;31m \u001b[0mtree\u001b[0m\u001b[0;34m.\u001b[0m\u001b[0mwrite\u001b[0m\u001b[0;34m(\u001b[0m\u001b[0mformat\u001b[0m\u001b[0;34m=\u001b[0m\u001b[0;36m3\u001b[0m\u001b[0;34m,\u001b[0m \u001b[0moutfile\u001b[0m\u001b[0;34m=\u001b[0m\u001b[0;34m\"NCBITree_topology.nwk\"\u001b[0m\u001b[0;34m)\u001b[0m\u001b[0;34m\u001b[0m\u001b[0;34m\u001b[0m\u001b[0m\n\u001b[0m",
      "\u001b[0;31mNameError\u001b[0m: name 'tree' is not defined"
     ]
    }
   ],
   "source": [
    "tree.write(format=3, outfile=\"NCBITree_topology.nwk\")"
   ]
  },
  {
   "cell_type": "code",
   "execution_count": 6,
   "metadata": {
    "collapsed": true
   },
   "outputs": [
    {
     "ename": "NameError",
     "evalue": "name 'tree' is not defined",
     "output_type": "error",
     "traceback": [
      "\u001b[0;31m---------------------------------------------------------------------------\u001b[0m",
      "\u001b[0;31mNameError\u001b[0m                                 Traceback (most recent call last)",
      "\u001b[0;32m<ipython-input-6-2fe04aa4097e>\u001b[0m in \u001b[0;36m<module>\u001b[0;34m\u001b[0m\n\u001b[0;32m----> 1\u001b[0;31m \u001b[0mfirst_common_ancestor_subtree\u001b[0m \u001b[0;34m=\u001b[0m \u001b[0mtree\u001b[0m\u001b[0;34m.\u001b[0m\u001b[0mget_common_ancestor\u001b[0m\u001b[0;34m(\u001b[0m\u001b[0;34m\"10090\"\u001b[0m\u001b[0;34m,\u001b[0m \u001b[0;34m\"9031\"\u001b[0m\u001b[0;34m)\u001b[0m\u001b[0;34m\u001b[0m\u001b[0;34m\u001b[0m\u001b[0m\n\u001b[0m",
      "\u001b[0;31mNameError\u001b[0m: name 'tree' is not defined"
     ]
    }
   ],
   "source": [
    "first_common_ancestor_subtree = tree.get_common_ancestor(\"10090\", \"9031\") #this code get object of subtree of fca"
   ]
  },
  {
   "cell_type": "code",
   "execution_count": 7,
   "metadata": {
    "collapsed": true
   },
   "outputs": [
    {
     "ename": "NameError",
     "evalue": "name 'first_common_ancestor_subtree' is not defined",
     "output_type": "error",
     "traceback": [
      "\u001b[0;31m---------------------------------------------------------------------------\u001b[0m",
      "\u001b[0;31mNameError\u001b[0m                                 Traceback (most recent call last)",
      "\u001b[0;32m<ipython-input-7-44669e61e1f3>\u001b[0m in \u001b[0;36m<module>\u001b[0;34m\u001b[0m\n\u001b[0;32m----> 1\u001b[0;31m \u001b[0mfirst_common_ancestor_subtree\u001b[0m\u001b[0;34m.\u001b[0m\u001b[0mwrite\u001b[0m\u001b[0;34m(\u001b[0m\u001b[0mformat\u001b[0m\u001b[0;34m=\u001b[0m\u001b[0;36m3\u001b[0m\u001b[0;34m,\u001b[0m \u001b[0moutfile\u001b[0m\u001b[0;34m=\u001b[0m\u001b[0;34m\"ancestor_subtree.nwk\"\u001b[0m\u001b[0;34m)\u001b[0m\u001b[0;34m\u001b[0m\u001b[0;34m\u001b[0m\u001b[0m\n\u001b[0m",
      "\u001b[0;31mNameError\u001b[0m: name 'first_common_ancestor_subtree' is not defined"
     ]
    }
   ],
   "source": [
    "first_common_ancestor_subtree.write(format=3, outfile=\"ancestor_subtree.nwk\")"
   ]
  },
  {
   "cell_type": "code",
   "execution_count": 8,
   "metadata": {
    "collapsed": true
   },
   "outputs": [
    {
     "ename": "NameError",
     "evalue": "name 'first_common_ancestor_taxid' is not defined",
     "output_type": "error",
     "traceback": [
      "\u001b[0;31m---------------------------------------------------------------------------\u001b[0m",
      "\u001b[0;31mNameError\u001b[0m                                 Traceback (most recent call last)",
      "\u001b[0;32m<ipython-input-8-62c7a562fb43>\u001b[0m in \u001b[0;36m<module>\u001b[0;34m\u001b[0m\n\u001b[0;32m----> 1\u001b[0;31m \u001b[0mprint\u001b[0m\u001b[0;34m(\u001b[0m\u001b[0;34m'first_common_ancestor_taxid'\u001b[0m\u001b[0;34m,\u001b[0m\u001b[0mfirst_common_ancestor_taxid\u001b[0m\u001b[0;34m.\u001b[0m\u001b[0mname\u001b[0m\u001b[0;34m)\u001b[0m\u001b[0;34m\u001b[0m\u001b[0;34m\u001b[0m\u001b[0m\n\u001b[0m",
      "\u001b[0;31mNameError\u001b[0m: name 'first_common_ancestor_taxid' is not defined"
     ]
    }
   ],
   "source": [
    "print('first_common_ancestor_taxid',first_common_ancestor_taxid.name)"
   ]
  },
  {
   "cell_type": "code",
   "execution_count": 9,
   "metadata": {
    "collapsed": true
   },
   "outputs": [
    {
     "ename": "NameError",
     "evalue": "name 'ncbi' is not defined",
     "output_type": "error",
     "traceback": [
      "\u001b[0;31m---------------------------------------------------------------------------\u001b[0m",
      "\u001b[0;31mNameError\u001b[0m                                 Traceback (most recent call last)",
      "\u001b[0;32m<ipython-input-9-4158b4be19ff>\u001b[0m in \u001b[0;36m<module>\u001b[0;34m\u001b[0m\n\u001b[1;32m      1\u001b[0m \u001b[0;31m# number of steps till the root (cellular organism) I will need to modify this to be till eukaryote\u001b[0m\u001b[0;34m\u001b[0m\u001b[0;34m\u001b[0m\u001b[0;34m\u001b[0m\u001b[0m\n\u001b[0;32m----> 2\u001b[0;31m \u001b[0mlineage_list\u001b[0m \u001b[0;34m=\u001b[0m \u001b[0mncbi\u001b[0m\u001b[0;34m.\u001b[0m\u001b[0mget_lineage\u001b[0m\u001b[0;34m(\u001b[0m\u001b[0;36m9031\u001b[0m\u001b[0;34m)\u001b[0m\u001b[0;34m\u001b[0m\u001b[0;34m\u001b[0m\u001b[0m\n\u001b[0m",
      "\u001b[0;31mNameError\u001b[0m: name 'ncbi' is not defined"
     ]
    }
   ],
   "source": [
    "# this is a list of all internal nodes (taxid format) till the root (cellular organism)\n",
    "lineage_list = ncbi.get_lineage(9031)"
   ]
  },
  {
   "cell_type": "code",
   "execution_count": 10,
   "metadata": {
    "collapsed": true
   },
   "outputs": [
    {
     "ename": "NameError",
     "evalue": "name 'ncbi' is not defined",
     "output_type": "error",
     "traceback": [
      "\u001b[0;31m---------------------------------------------------------------------------\u001b[0m",
      "\u001b[0;31mNameError\u001b[0m                                 Traceback (most recent call last)",
      "\u001b[0;32m<ipython-input-10-d7198b5d0986>\u001b[0m in \u001b[0;36m<module>\u001b[0;34m\u001b[0m\n\u001b[0;32m----> 1\u001b[0;31m \u001b[0mfirst_common_ancestor_name_dict\u001b[0m \u001b[0;34m=\u001b[0m \u001b[0mncbi\u001b[0m\u001b[0;34m.\u001b[0m\u001b[0mget_taxid_translator\u001b[0m\u001b[0;34m(\u001b[0m\u001b[0mlineage_list\u001b[0m\u001b[0;34m)\u001b[0m \u001b[0;31m#translates the list of taxids to names\u001b[0m\u001b[0;34m\u001b[0m\u001b[0;34m\u001b[0m\u001b[0m\n\u001b[0m\u001b[1;32m      2\u001b[0m \u001b[0mprint\u001b[0m\u001b[0;34m(\u001b[0m\u001b[0mfirst_common_ancestor_name_dict\u001b[0m\u001b[0;34m[\u001b[0m\u001b[0mint\u001b[0m\u001b[0;34m(\u001b[0m\u001b[0mfirst_common_ancestor_taxid\u001b[0m\u001b[0;34m.\u001b[0m\u001b[0mname\u001b[0m\u001b[0;34m)\u001b[0m\u001b[0;34m]\u001b[0m\u001b[0;34m)\u001b[0m \u001b[0;31m#print name of fca\u001b[0m\u001b[0;34m\u001b[0m\u001b[0;34m\u001b[0m\u001b[0m\n",
      "\u001b[0;31mNameError\u001b[0m: name 'ncbi' is not defined"
     ]
    }
   ],
   "source": [
    "first_common_ancestor_name_dict = ncbi.get_taxid_translator(lineage_list) #translates the list of taxids to names\n",
    "print(first_common_ancestor_name_dict[int(first_common_ancestor_taxid.name)]) #print name of fca"
   ]
  },
  {
   "cell_type": "code",
   "execution_count": 11,
   "metadata": {
    "collapsed": true
   },
   "outputs": [
    {
     "ename": "NameError",
     "evalue": "name 'lineage_list' is not defined",
     "output_type": "error",
     "traceback": [
      "\u001b[0;31m---------------------------------------------------------------------------\u001b[0m",
      "\u001b[0;31mNameError\u001b[0m                                 Traceback (most recent call last)",
      "\u001b[0;32m<ipython-input-11-7ba92be6b5b0>\u001b[0m in \u001b[0;36m<module>\u001b[0;34m\u001b[0m\n\u001b[1;32m      1\u001b[0m \u001b[0;34m\u001b[0m\u001b[0m\n\u001b[1;32m      2\u001b[0m \u001b[0;31m# this gives you the number of taxa above the leaf of interest to the Eukaryota (2759)\u001b[0m\u001b[0;34m\u001b[0m\u001b[0;34m\u001b[0m\u001b[0;34m\u001b[0m\u001b[0m\n\u001b[0;32m----> 3\u001b[0;31m \u001b[0mprint\u001b[0m\u001b[0;34m(\u001b[0m\u001b[0;34m'number of taxa above the leaf of interest to the Eukaryota'\u001b[0m\u001b[0;34m,\u001b[0m\u001b[0mlen\u001b[0m\u001b[0;34m(\u001b[0m\u001b[0mlineage_list\u001b[0m\u001b[0;34m)\u001b[0m\u001b[0;34m-\u001b[0m\u001b[0;36m3\u001b[0m\u001b[0;34m)\u001b[0m\u001b[0;34m\u001b[0m\u001b[0;34m\u001b[0m\u001b[0m\n\u001b[0m",
      "\u001b[0;31mNameError\u001b[0m: name 'lineage_list' is not defined"
     ]
    }
   ],
   "source": [
    "\n",
    "# this gives you the number of taxa above the leaf of interest to the Eukaryota (2759)\n",
    "print('number of taxa above the leaf of interest to the Eukaryota',len(lineage_list)-3)"
   ]
  },
  {
   "cell_type": "markdown",
   "metadata": {},
   "source": [
    "Because we know the FCA and we can get lineage list of any of the taxa and check the index of FCA in the list then if we substract 2 of that number, it should get the number of steps in between FCA and Eukaryota."
   ]
  },
  {
   "cell_type": "code",
   "execution_count": 12,
   "metadata": {
    "collapsed": true
   },
   "outputs": [
    {
     "ename": "NameError",
     "evalue": "name 'lineage_list' is not defined",
     "output_type": "error",
     "traceback": [
      "\u001b[0;31m---------------------------------------------------------------------------\u001b[0m",
      "\u001b[0;31mNameError\u001b[0m                                 Traceback (most recent call last)",
      "\u001b[0;32m<ipython-input-12-66c407852243>\u001b[0m in \u001b[0;36m<module>\u001b[0;34m\u001b[0m\n\u001b[1;32m      1\u001b[0m \u001b[0;31m# number of steps from the root (cellular organism in this case) to first_common_ancestor\u001b[0m\u001b[0;34m\u001b[0m\u001b[0;34m\u001b[0m\u001b[0;34m\u001b[0m\u001b[0m\n\u001b[0;32m----> 2\u001b[0;31m \u001b[0mprint\u001b[0m\u001b[0;34m(\u001b[0m\u001b[0;34m'number of steps from the root'\u001b[0m\u001b[0;34m,\u001b[0m\u001b[0mlineage_list\u001b[0m\u001b[0;34m.\u001b[0m\u001b[0mindex\u001b[0m\u001b[0;34m(\u001b[0m\u001b[0mint\u001b[0m\u001b[0;34m(\u001b[0m\u001b[0mfirst_common_ancestor_taxid\u001b[0m\u001b[0;34m.\u001b[0m\u001b[0mname\u001b[0m\u001b[0;34m)\u001b[0m\u001b[0;34m)\u001b[0m\u001b[0;34m)\u001b[0m\u001b[0;34m\u001b[0m\u001b[0;34m\u001b[0m\u001b[0m\n\u001b[0m\u001b[1;32m      3\u001b[0m \u001b[0;31m# number of steps from Eukaryota to first_common_ancestor\u001b[0m\u001b[0;34m\u001b[0m\u001b[0;34m\u001b[0m\u001b[0;34m\u001b[0m\u001b[0m\n\u001b[1;32m      4\u001b[0m \u001b[0mprint\u001b[0m\u001b[0;34m(\u001b[0m\u001b[0;34m'number of steps from Eukaryota to first_common_ancestor'\u001b[0m\u001b[0;34m,\u001b[0m\u001b[0mlineage_list\u001b[0m\u001b[0;34m.\u001b[0m\u001b[0mindex\u001b[0m\u001b[0;34m(\u001b[0m\u001b[0mint\u001b[0m\u001b[0;34m(\u001b[0m\u001b[0mfirst_common_ancestor_taxid\u001b[0m\u001b[0;34m.\u001b[0m\u001b[0mname\u001b[0m\u001b[0;34m)\u001b[0m\u001b[0;34m)\u001b[0m\u001b[0;34m-\u001b[0m\u001b[0;36m2\u001b[0m\u001b[0;34m)\u001b[0m\u001b[0;34m\u001b[0m\u001b[0;34m\u001b[0m\u001b[0m\n\u001b[1;32m      5\u001b[0m \u001b[0;31m# number of steps from leaf to the FCA\u001b[0m\u001b[0;34m\u001b[0m\u001b[0;34m\u001b[0m\u001b[0;34m\u001b[0m\u001b[0m\n",
      "\u001b[0;31mNameError\u001b[0m: name 'lineage_list' is not defined"
     ]
    }
   ],
   "source": [
    "# number of steps from the root (cellular organism in this case) to first_common_ancestor\n",
    "print('number of steps from the root',lineage_list.index(int(first_common_ancestor_taxid.name)))\n",
    "# number of steps from Eukaryota to first_common_ancestor\n",
    "print('number of steps from Eukaryota to FCA',lineage_list.index(int(first_common_ancestor_taxid.name))-2)\n",
    "# number of steps from leaf to the FCA\n",
    "print('steps from leaf to the FCA',len(lineage_list)-1-lineage_list.index(int(first_common_ancestor_taxid.name)))"
   ]
  },
  {
   "cell_type": "markdown",
   "metadata": {},
   "source": [
    "# I finished the basic explanation of how the script works (tree_topology.py script), in the next part of my notebook I will explain how I fitted that with Matt script output to process it."
   ]
  },
  {
   "cell_type": "code",
   "execution_count": null,
   "metadata": {},
   "outputs": [],
   "source": [
    "#This is that start of my script where I assigned empty dicts and open write files that I will use for outputs\n",
    "import sys\n",
    "from ete3 import Tree\n",
    "from ete3 import NCBITaxa\n",
    "from ete3 import PhyloTree\n",
    "\n",
    "ncbi = NCBITaxa()\n",
    "tax_dict = dict()\n",
    "tree_dict = dict()\n",
    "ontology = dict()\n",
    "#creating output files\n",
    "outputFile = open('trees.tab', 'w')\n",
    "outputFile2 = open('summary_report.tab', 'w')\n",
    "outputFile2.write('uni_id'+'\\t'+'FCA_id'+'\\t'+'FCA_name'+'\\t'+'steps_from_Eukaryota'+'\\n')\n",
    "outputFile3 = open('ontology.tab', 'w')"
   ]
  },
  {
   "cell_type": "code",
   "execution_count": 13,
   "metadata": {
    "collapsed": true
   },
   "outputs": [
    {
     "ename": "FileNotFoundError",
     "evalue": "[Errno 2] No such file or directory: 'SP_by_taxa.tab'",
     "output_type": "error",
     "traceback": [
      "\u001b[0;31m---------------------------------------------------------------------------\u001b[0m",
      "\u001b[0;31mFileNotFoundError\u001b[0m                         Traceback (most recent call last)",
      "\u001b[0;32m<ipython-input-13-35e9ee6cd56a>\u001b[0m in \u001b[0;36m<module>\u001b[0;34m\u001b[0m\n\u001b[1;32m      1\u001b[0m \u001b[0;31m#Here I open the file that Matt script creates and loops in each line and get the taxids\u001b[0m\u001b[0;34m\u001b[0m\u001b[0;34m\u001b[0m\u001b[0;34m\u001b[0m\u001b[0m\n\u001b[1;32m      2\u001b[0m \u001b[0;31m#Matt outputs file of tab_delimited uniprotid and taxids (taxids are separated by ',')\u001b[0m\u001b[0;34m\u001b[0m\u001b[0;34m\u001b[0m\u001b[0;34m\u001b[0m\u001b[0m\n\u001b[0;32m----> 3\u001b[0;31m \u001b[0;32mwith\u001b[0m \u001b[0mopen\u001b[0m\u001b[0;34m(\u001b[0m\u001b[0;34m'SP_by_taxa.tab'\u001b[0m\u001b[0;34m,\u001b[0m\u001b[0;34m'r'\u001b[0m\u001b[0;34m)\u001b[0m \u001b[0;32mas\u001b[0m \u001b[0mfo\u001b[0m\u001b[0;34m:\u001b[0m\u001b[0;34m\u001b[0m\u001b[0;34m\u001b[0m\u001b[0m\n\u001b[0m\u001b[1;32m      4\u001b[0m     \u001b[0;32mfor\u001b[0m \u001b[0mline\u001b[0m \u001b[0;32min\u001b[0m \u001b[0mfo\u001b[0m\u001b[0;34m:\u001b[0m\u001b[0;34m\u001b[0m\u001b[0;34m\u001b[0m\u001b[0m\n\u001b[1;32m      5\u001b[0m         \u001b[0mline\u001b[0m \u001b[0;34m=\u001b[0m \u001b[0mline\u001b[0m\u001b[0;34m.\u001b[0m\u001b[0mrstrip\u001b[0m\u001b[0;34m(\u001b[0m\u001b[0;34m)\u001b[0m\u001b[0;34m\u001b[0m\u001b[0;34m\u001b[0m\u001b[0m\n",
      "\u001b[0;31mFileNotFoundError\u001b[0m: [Errno 2] No such file or directory: 'SP_by_taxa.tab'"
     ]
    }
   ],
   "source": [
    "#Here I open the file that Matt script creates and loops in each line and get the taxids\n",
    "#Matt outputs file of tab_delimited uniprotid and taxids (taxids are separated by ',')\n",
    "with open('SP_by_taxa.tab','r') as fo:\n",
    "    for line in fo:\n",
    "        line = line.rstrip()\n",
    "        (uniprotid,taxids) = line.split('\\t')\n",
    "        one_taxid = taxids.split(',') # divide the list of taxids to diff taxids 'strings' & capture them in dict\n",
    "        tax_dict[uniprotid] = one_taxid\n",
    "        one_taxid_int = []"
   ]
  },
  {
   "cell_type": "markdown",
   "metadata": {},
   "source": [
    "after the last part of code you will have each line as a list of diff taxids \n",
    "and in next block we will convert them to list of int as ete3 takes list of taxid and matches with NCBI taxaonomy database"
   ]
  },
  {
   "cell_type": "code",
   "execution_count": null,
   "metadata": {},
   "outputs": [],
   "source": [
    "        for i in range(len(one_taxid)):\n",
    "            one_taxid_int.append(int(one_taxid[i])) #ete3 takes a list of taxid integers to create topology\n",
    "            #print(one_taxid)\n",
    "        tree = ncbi.get_topology(one_taxid) #creates the tree of taxids for each uniprot id\n",
    "        outputFile.write(uniprotid+'\\t'+tree.write(format=3)+'\\n') #writing tab file of uniprot/tree_string\n",
    "        tree_dict[uniprotid] = tree # captures them in a dict\n",
    "        one_taxid_str = [] #a new empty list of one_taxid, needed to return back one_taxid list to list of strings\n",
    "        for i in range(len(one_taxid_int)):\n",
    "            one_taxid_str.append(str(one_taxid_int[i])) # returning to list of strings again"
   ]
  },
  {
   "cell_type": "markdown",
   "metadata": {},
   "source": [
    "In the last code block, the first output file was produced as tab_seprated (uniprotid/tree_string) for each."
   ]
  },
  {
   "cell_type": "code",
   "execution_count": null,
   "metadata": {},
   "outputs": [],
   "source": [
    "#get the first common ancestor of each uniprotid as taxid\n",
    "        first_common_ancestor_taxid = tree.get_tree_root()\n",
    "        #print(first_common_ancestor_taxid.name)\n",
    "#this part capture the root node as an object with name and other attributes"
   ]
  },
  {
   "cell_type": "code",
   "execution_count": null,
   "metadata": {},
   "outputs": [],
   "source": [
    "        if first_common_ancestor_taxid.name in ontology:\n",
    "            uniprotid_set = ontology[first_common_ancestor_taxid.name]\n",
    "            uniprotid_set.add(uniprotid)\n",
    "        else:\n",
    "            uniprotid_set = set()\n",
    "            ontology[first_common_ancestor_taxid.name] = uniprotid_set\n",
    "            ontology[first_common_ancestor_taxid.name].add(uniprotid)\n",
    "# in this block I make a dictionary of fca name as key and a set of uniprotids as value"
   ]
  },
  {
   "cell_type": "code",
   "execution_count": null,
   "metadata": {},
   "outputs": [],
   "source": [
    "#in this part of the code I get lineage of human (9606) as list\n",
    "        lineage_list = ncbi.get_lineage(9606)\n",
    "        \n",
    "        #translate the lineage to names and get FCA as a taxon name\n",
    "        first_common_ancestor_name_dict = ncbi.get_taxid_translator(lineage_list)"
   ]
  },
  {
   "cell_type": "markdown",
   "metadata": {},
   "source": [
    "lineage_list always return: (this is example for Gallus gallus)\n",
    "[1, 131567, 2759, 33154, 33208, 6072, 33213, 33511, 7711, 89593, 7742, 7776, 117570, 117571, 8287, 1338369, 32523, 32524, 8457, 32561, 1329799, 8492, 436486, 436489, 436491, 436492, 8782, 8825, 1549675, 8976, 9005, 9072, 9030, 9031]\n",
    "Translating it will return:\n",
    "{1: u'root', 33154: u'Opisthokonta', 1338369: u'Dipnotetrapodomorpha', 436486: u'Dinosauria', 1329799: u'Archelosauria', 8457: u'Sauropsida', 32523: u'Tetrapoda', 32524: u'Amniota', 8976: u'Galliformes', 436491: u'Theropoda', 7711: u'Chordata', 9031: u'Gallus gallus', 8492: u'Archosauria', 9005: u'Phasianidae', 32561: u'Sauria', 436489: u'Saurischia', 33208: u'Metazoa', 33213: u'Bilateria', 7742: u'Vertebrata', 117570: u'Teleostomi', 117571: u'Euteleostomi', 9030: u'Gallus', 2759: u'Eukaryota', 436492: u'Coelurosauria', 8782: u'Aves', 6072: u'Eumetazoa', 89593: u'Craniata', 8287: u'Sarcopterygii', 7776: u'Gnathostomata', 33511: u'Deuterostomia', 1549675: u'Galloanserae', 131567: u'cellular organisms', 9072: u'Phasianinae', 8825: u'Neognathae'}"
   ]
  },
  {
   "cell_type": "code",
   "execution_count": null,
   "metadata": {},
   "outputs": [],
   "source": [
    "        outputFile2.write(uniprotid+'\\t'+first_common_ancestor_taxid.name+'\\t'\n",
    "                  +first_common_ancestor_name_dict[int(first_common_ancestor_taxid.name)]+'\\t'\n",
    "                  +str(lineage_list.index(int(first_common_ancestor_taxid.name))-2)+'\\n')\n",
    "#"
   ]
  },
  {
   "cell_type": "code",
   "execution_count": null,
   "metadata": {},
   "outputs": [],
   "source": [
    "#ALl of the previous code was inside the for line in fo loop, this next part is in same level as 'with open'\n",
    "for name in ontology:\n",
    "    outputFile3.write(str(name)+'\\t'+str(ontology[name])+'\\n')\n",
    "#this line writes tab separated file of ancestor name with all uniprotids as set.\n",
    "#this will be used by next script in the pipeline (Stephanie)"
   ]
  },
  {
   "cell_type": "code",
   "execution_count": null,
   "metadata": {},
   "outputs": [],
   "source": [
    "outputFile.close()\n",
    "outputFile2.close()\n",
    "outputFile3.close()"
   ]
  },
  {
   "cell_type": "markdown",
   "metadata": {},
   "source": [
    "#This next block code takes another file that Matt outputs which is a set of all taxa\n",
    "I use it to produce a general tree that should have every taxon we dealt with in the pipeline"
   ]
  },
  {
   "cell_type": "code",
   "execution_count": null,
   "metadata": {},
   "outputs": [],
   "source": [
    "# This will produce a tree of all taxa that at least have one uniprotid from the list given at first step\n",
    "with open('all_SP_taxa.txt','r') as fo:\n",
    "    for line in fo:\n",
    "        line = line.rstrip()\n",
    "        one_taxid = line.split(',') # divide the list of taxids to diff taxids 'strings'\n",
    "        #print(one_taxid)\n",
    "        all_tree = ncbi.get_topology(one_taxid) #creates the tree of taxids for each uniprot id\n",
    "all_tree.write(format=3, outfile=\"all_proteins.tree\")"
   ]
  },
  {
   "cell_type": "markdown",
   "metadata": {},
   "source": [
    "I can reduce my script at some parts of converting to list of int and list of strings again."
   ]
  }
 ],
 "metadata": {
  "kernelspec": {
   "display_name": "Python 3",
   "language": "python",
   "name": "python3"
  },
  "language_info": {
   "codemirror_mode": {
    "name": "ipython",
    "version": 3
   },
   "file_extension": ".py",
   "mimetype": "text/x-python",
   "name": "python",
   "nbconvert_exporter": "python",
   "pygments_lexer": "ipython3",
   "version": "3.7.1"
  }
 },
 "nbformat": 4,
 "nbformat_minor": 2
}
